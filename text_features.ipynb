{
 "cells": [
  {
   "cell_type": "code",
   "execution_count": 1,
   "metadata": {
    "collapsed": true
   },
   "outputs": [],
   "source": [
    "from nltk import word_tokenize\n",
    "from nltk.corpus import stopwords\n",
    "from nltk.stem.porter import * \n",
    "from sklearn.feature_extraction.text import TfidfVectorizer\n",
    "import re\n",
    "import csv\n",
    "import pandas as pd\n",
    "import numpy as np"
   ]
  },
  {
   "cell_type": "code",
   "execution_count": 2,
   "metadata": {
    "collapsed": false
   },
   "outputs": [
    {
     "name": "stdout",
     "output_type": "stream",
     "text": [
      "0       Borrower added on 12/22/11 > I need to upgra...\n",
      "1       Borrower added on 12/22/11 > I plan to use t...\n",
      "2                                                   NaN\n",
      "3       Borrower added on 12/21/11 > to pay for prop...\n",
      "4       Borrower added on 12/21/11 > I plan on combi...\n",
      "5                                                   NaN\n",
      "6       Borrower added on 12/18/11 > I am planning o...\n",
      "7       Borrower added on 12/16/11 > Downpayment for...\n",
      "8       Borrower added on 12/21/11 > I own a small h...\n",
      "9       Borrower added on 12/16/11 > I'm trying to b...\n",
      "10      Borrower added on 12/15/11 > I had recived a...\n",
      "11                                                  NaN\n",
      "12      Borrower added on 12/15/11 > Plan to pay off...\n",
      "13      Borrower added on 12/19/11 > I intend to pay...\n",
      "14                                                  NaN\n",
      "15                                                  NaN\n",
      "16                                                  NaN\n",
      "17      Borrower added on 12/15/11 > Payoff other le...\n",
      "18      Borrower added on 12/16/11 > This is a loan ...\n",
      "19                                                  NaN\n",
      "20    After amassing credit card debt through severa...\n",
      "21      Borrower added on 12/16/11 > Decided to clea...\n",
      "22      Borrower added on 12/17/11 > Have a stable j...\n",
      "23                                                  NaN\n",
      "24                                                  NaN\n",
      "25                                                  NaN\n",
      "26      Borrower added on 12/15/11 > looking to cons...\n",
      "27      Borrower added on 12/16/11 > I have a stable...\n",
      "28                                                  NaN\n",
      "29      Borrower added on 12/15/11 > My loan is for ...\n",
      "                            ...                        \n",
      "70      Borrower added on 12/18/11 > We are looking ...\n",
      "71      Borrower added on 12/14/11 > Debt consolidat...\n",
      "72                                                  NaN\n",
      "73      Borrower added on 12/14/11 > This loan is fo...\n",
      "74      Borrower added on 12/15/11 > I have some 0% ...\n",
      "75                                                  NaN\n",
      "76                                                  NaN\n",
      "77    I have been steadily employed.  I am a hard wo...\n",
      "78                                                  NaN\n",
      "79      Borrower added on 12/20/11 > I've been worki...\n",
      "80                                                  NaN\n",
      "81      Borrower added on 12/14/11 > Consolidation o...\n",
      "82     Loan for refinancing credit cards and finishi...\n",
      "83                                                  NaN\n",
      "84       Borrower added on 12/14/11 > Pay my credit<br>\n",
      "85      Borrower added on 12/14/11 > Debt Consolidat...\n",
      "86      Borrower added on 12/18/11 > most of my teet...\n",
      "87      Borrower added on 12/20/11 > The loan is to ...\n",
      "88      Borrower added on 12/14/11 > looking to pay ...\n",
      "89      Borrower added on 12/14/11 > I HAVE SOME CRE...\n",
      "90      Borrower added on 12/15/11 > with fixed amou...\n",
      "91      Borrower added on 12/14/11 > I plan on payin...\n",
      "92                                                  NaN\n",
      "93      Borrower added on 12/21/11 > My job is  in t...\n",
      "94                                                  NaN\n",
      "95                                                  NaN\n",
      "96                                                  NaN\n",
      "97      Borrower added on 12/14/11 > Pay off credit ...\n",
      "98      Borrower added on 12/14/11 > 1993 jeep wrang...\n",
      "99      Borrower added on 12/15/11 > The following i...\n",
      "Name: desc, dtype: object\n"
     ]
    },
    {
     "name": "stderr",
     "output_type": "stream",
     "text": [
      "/Users/siyixie/anaconda/lib/python2.7/site-packages/IPython/core/interactiveshell.py:2717: DtypeWarning: Columns (0,49) have mixed types. Specify dtype option on import or set low_memory=False.\n",
      "  interactivity=interactivity, compiler=compiler, result=result)\n"
     ]
    }
   ],
   "source": [
    "df = pd.read_csv('../project/LC_data/LoanStats3a_securev1.csv')\n",
    "print df['desc'].head(100)"
   ]
  },
  {
   "cell_type": "code",
   "execution_count": 3,
   "metadata": {
    "collapsed": false
   },
   "outputs": [
    {
     "name": "stderr",
     "output_type": "stream",
     "text": [
      "/Users/siyixie/anaconda/lib/python2.7/site-packages/ipykernel/__main__.py:14: SettingWithCopyWarning: \n",
      "A value is trying to be set on a copy of a slice from a DataFrame.\n",
      "Try using .loc[row_indexer,col_indexer] = value instead\n",
      "\n",
      "See the caveats in the documentation: http://pandas.pydata.org/pandas-docs/stable/indexing.html#indexing-view-versus-copy\n"
     ]
    }
   ],
   "source": [
    "desc_data = df[['desc', 'loan_status']]\n",
    "def clean_text(x):\n",
    "\tif isinstance(x, basestring):\n",
    "\t\tx = x.strip() # drop the space at the begining and end\n",
    "\t\tx = re.sub(r'\\d+', '', x) # delete the numbers\n",
    "\t\tx = re.sub(r'[^\\w\\s]',' ', x) # remove punctuation and replace with a space\n",
    "\t\tx = x.lower()\n",
    "\t\tif len(x.split()) == 0:\n",
    "\t\t\t# remove strings of only space\n",
    "\t\t\tx = np.nan\n",
    "\treturn x\n",
    "\n",
    "\n",
    "desc_data['desc'] = desc_data['desc'].apply(clean_text)\n",
    "desc_data = desc_data.dropna()\n"
   ]
  },
  {
   "cell_type": "code",
   "execution_count": 4,
   "metadata": {
    "collapsed": true
   },
   "outputs": [],
   "source": [
    "stemmer = PorterStemmer()\n",
    "def stem_tokens(tokens, stemmer):\n",
    "\tstemmed = []\n",
    "\tfor item in tokens:\n",
    "\t\tstemmed.append(stemmer.stem(item))\n",
    "\treturn stemmed\n",
    "\n",
    "def tokenize(text):\n",
    "\ttokens = word_tokenize(text)\n",
    "\tstems = stem_tokens(tokens, stemmer)\n",
    "\tfiltered = [w for w in stems if not w in stopwords.words('english')]\n",
    "\treturn filtered\n"
   ]
  },
  {
   "cell_type": "code",
   "execution_count": 5,
   "metadata": {
    "collapsed": false
   },
   "outputs": [],
   "source": [
    "bad_loan_desc = desc_data.desc.loc[desc_data['loan_status'].isin(['Charged Off', 'Default'])]\n",
    "good_loan_desc = desc_data.desc.loc[desc_data['loan_status'].isin(['Fully Paid'])]"
   ]
  },
  {
   "cell_type": "code",
   "execution_count": 7,
   "metadata": {
    "collapsed": false
   },
   "outputs": [],
   "source": [
    "tfidf_bad = TfidfVectorizer(tokenizer=tokenize, stop_words='english')\n",
    "response_bad = tfidf_bad.fit_transform(bad_loan_desc)\n",
    "bad_feature_names = tfidf_bad.get_feature_names()\n",
    "\n",
    "tfidf_good = TfidfVectorizer(tokenizer=tokenize, stop_words='english')\n",
    "response_good = tfidf_good.fit_transform(good_loan_desc)\n",
    "good_feature_names = tfidf_good.get_feature_names()"
   ]
  },
  {
   "cell_type": "code",
   "execution_count": 8,
   "metadata": {
    "collapsed": false
   },
   "outputs": [],
   "source": [
    "bad_tf_idf_sum = np.sum(response_bad, axis=0).tolist()[0] # get sum of scores of all bad loans text for each word\n",
    "good_tf_idf_sum = np.sum(response_good, axis=0).tolist()[0] # get sum of scores of all good loans text for each word\n",
    "\n",
    "bad_tf_idf_normalized = [float(i)/sum(bad_tf_idf_sum) for i in bad_tf_idf_sum]\n",
    "good_tf_idf_normalized = [float(i)/sum(good_tf_idf_sum) for i in good_tf_idf_sum]\n",
    "\n",
    "\n",
    "all_words = list(set(good_feature_names + bad_feature_names))\n",
    "\n",
    "good_tf_idf_normalized += [0]*len(list(set(all_words)-set(good_feature_names)))\n",
    "good_feature_names += list(set(all_words)-set(good_feature_names))\n",
    "dict_good = dict(zip(good_feature_names, good_tf_idf_normalized))\n",
    "\n",
    "bad_tf_idf_normalized += [0]*len(list(set(all_words)-set(bad_feature_names)))\n",
    "bad_feature_names += list(set(all_words)-set(bad_feature_names))\n",
    "dict_bad = dict(zip(bad_feature_names, bad_tf_idf_normalized))"
   ]
  },
  {
   "cell_type": "code",
   "execution_count": 9,
   "metadata": {
    "collapsed": false
   },
   "outputs": [
    {
     "name": "stdout",
     "output_type": "stream",
     "text": [
      "['busi', 'rate', 'ad', 'br', 'need', 'borrow', 'help', 'consolid', 'time', 'money', 'motorcycl', 'new', 'thank', 'payment', 'account', 'open', 'apr', 'purchas', 'year', 'save', 'minimum', 'small', 'loan', 'car', 'refin', 'plan', 'wed', 'better', 'medic', 'low', 'im', 'ring', 'equip', 'monthli', 'balanc', 'person', 'expand', 'make', 'colleg', 'posit', 'expens', 'kid', 'problem', 'cosolid', 'graduat', 'salari', 'financi', 'store', 'recent', 'restaur', 'lend', 'school', 'franchis', 'start', 'firm', 'job', 'invest', 'realli', 'half', 'consolod', 'histori', 'request', 'work', 'divorc', 'locat', 'room', 'late', 'finish', 'revolv', 'ga']\n"
     ]
    }
   ],
   "source": [
    "# get absolute difference of the two\n",
    "diff = {key: abs(dict_bad[key]-dict_good.get(key, 0)) for key in dict_bad.keys()}\n",
    "\n",
    "sorted_diff = sorted(((v,k) for k, v in diff.iteritems()), reverse=True) # sort(descending)\n",
    "desc_features = []\n",
    "# get the top 70 distinct words\n",
    "for i in sorted_diff[:70]:\n",
    "\tdesc_features.append(str(i[1]))\n",
    "\n",
    "print desc_features\n",
    "# save the file"
   ]
  },
  {
   "cell_type": "code",
   "execution_count": 10,
   "metadata": {
    "collapsed": true
   },
   "outputs": [],
   "source": [
    "# save as csv\n",
    "with open('desc_tfidf.csv', 'wb') as csv_file:\n",
    "\twriter = csv.writer(csv_file)\n",
    "\tfor i in sorted_diff:\n",
    "\t\twriter.writerow(i)\n"
   ]
  }
 ],
 "metadata": {
  "kernelspec": {
   "display_name": "Python 2",
   "language": "python",
   "name": "python2"
  },
  "language_info": {
   "codemirror_mode": {
    "name": "ipython",
    "version": 2
   },
   "file_extension": ".py",
   "mimetype": "text/x-python",
   "name": "python",
   "nbconvert_exporter": "python",
   "pygments_lexer": "ipython2",
   "version": "2.7.13"
  }
 },
 "nbformat": 4,
 "nbformat_minor": 2
}
